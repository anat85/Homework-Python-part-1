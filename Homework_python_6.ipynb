{
 "cells": [
  {
   "cell_type": "code",
   "execution_count": 1,
   "id": "93182c46",
   "metadata": {},
   "outputs": [],
   "source": [
    "import requests"
   ]
  },
  {
   "cell_type": "code",
   "execution_count": 2,
   "id": "6340525f",
   "metadata": {},
   "outputs": [],
   "source": [
    "class Rate:\n",
    "    def __init__(self, format_='value'):\n",
    "        self.format = format_\n",
    "\n",
    "    def exchange_rates(self):\n",
    "        self.r = requests.get('https://www.cbr-xml-daily.ru/daily_json.js')\n",
    "        return self.r.json()['Valute']\n",
    "    def max_val(self):\n",
    "        response = self.exchange_rates()\n",
    "        max1 = {}\n",
    "        for k, v in response.items():\n",
    "            max1[v[\"Name\"]] = v[\"Value\"]\n",
    "            max_val = max(max1.values())\n",
    "            max_val_key = max(max1, key=max1.get)\n",
    "\n",
    "        print(max_val_key)"
   ]
  },
  {
   "cell_type": "code",
   "execution_count": 3,
   "id": "4e501779",
   "metadata": {
    "scrolled": true
   },
   "outputs": [],
   "source": [
    "r = Rate()"
   ]
  },
  {
   "cell_type": "code",
   "execution_count": 4,
   "id": "8a6e3012",
   "metadata": {},
   "outputs": [
    {
     "name": "stdout",
     "output_type": "stream",
     "text": [
      "Китайских юаней\n"
     ]
    }
   ],
   "source": [
    "r.max_val()"
   ]
  },
  {
   "cell_type": "code",
   "execution_count": null,
   "id": "fbd497fb",
   "metadata": {},
   "outputs": [],
   "source": []
  },
  {
   "cell_type": "code",
   "execution_count": null,
   "id": "17fee3b5",
   "metadata": {},
   "outputs": [],
   "source": []
  },
  {
   "cell_type": "code",
   "execution_count": 3,
   "id": "fc32d7ea",
   "metadata": {},
   "outputs": [],
   "source": [
    "class Rate:\n",
    "    def __init__(self, format_='value'):\n",
    "        self.format = format_\n",
    "\n",
    "    def exchange_rates(self):\n",
    "        self.r = requests.get('https://www.cbr-xml-daily.ru/daily_json.js')\n",
    "        return self.r.json()['Valute']\n",
    "    \n",
    "    def max_val(self):\n",
    "        response = self.exchange_rates()\n",
    "        max1 = {}\n",
    "        for k, v in response.items():\n",
    "            max1[v[\"Name\"]] = v[\"Value\"]\n",
    "            max_val = max(max1.values())\n",
    "            max_val_key = max(max1, key=max1.get)\n",
    "        print(max_val_key)\n",
    "        \n",
    "    def make_format(self, diff):\n",
    "        self.diff = diff\n",
    "        response = self.exchange_rates()\n",
    "        for k in response:\n",
    "            if not diff:\n",
    "                return response[k]['Value']\n",
    "            if diff:\n",
    "                return response[k]['Previous'] - response[k]['Value']"
   ]
  },
  {
   "cell_type": "code",
   "execution_count": 6,
   "id": "976ac210",
   "metadata": {},
   "outputs": [],
   "source": [
    "r = Rate()"
   ]
  },
  {
   "cell_type": "code",
   "execution_count": 7,
   "id": "017f18ce",
   "metadata": {},
   "outputs": [
    {
     "data": {
      "text/plain": [
       "40.2332"
      ]
     },
     "execution_count": 7,
     "metadata": {},
     "output_type": "execute_result"
    }
   ],
   "source": [
    "r.make_format(False)"
   ]
  },
  {
   "cell_type": "code",
   "execution_count": null,
   "id": "7b839c23",
   "metadata": {},
   "outputs": [],
   "source": []
  },
  {
   "cell_type": "code",
   "execution_count": null,
   "id": "85b857f2",
   "metadata": {},
   "outputs": [],
   "source": []
  },
  {
   "cell_type": "code",
   "execution_count": 4,
   "id": "7b87162c",
   "metadata": {},
   "outputs": [],
   "source": [
    "class Employee:\n",
    "    def __init__(self, name, seniority):\n",
    "        self.name = name\n",
    "        self.seniority = seniority\n",
    "        \n",
    "        self.grade = 1\n",
    "       \n",
    "    def grade_up(self):\n",
    "        self.grade += 1\n",
    "    \n",
    "    def publish_grade(self):\n",
    "        print(self.name, self.grade)\n",
    "    \n",
    "    def check_if_it_is_time_for_upgrade(self):\n",
    "        pass"
   ]
  },
  {
   "cell_type": "code",
   "execution_count": 5,
   "id": "2a343ab7",
   "metadata": {},
   "outputs": [],
   "source": [
    "class Designer(Employee):\n",
    "    def __init__(self, name, seniority):\n",
    "        self.award = 2\n",
    "        super().__init__(name, seniority + self.award * 2)\n",
    "        \n",
    "#         self.award = 2\n",
    "#         self.seniority = 0 + self.award*2\n",
    "    def check_if_it_is_time_for_upgrade(self):\n",
    "        self.seniority += 1\n",
    "        if self.seniority % 7 == 0:\n",
    "            self.grade_up()\n",
    "            \n",
    "        return self.publish_grade()"
   ]
  },
  {
   "cell_type": "code",
   "execution_count": 29,
   "id": "bb1800c6",
   "metadata": {},
   "outputs": [],
   "source": [
    "a = Designer('Вася', 0)"
   ]
  },
  {
   "cell_type": "code",
   "execution_count": 56,
   "id": "a1ecc8c1",
   "metadata": {},
   "outputs": [
    {
     "data": {
      "text/plain": [
       "'Вася'"
      ]
     },
     "execution_count": 56,
     "metadata": {},
     "output_type": "execute_result"
    }
   ],
   "source": [
    "a.name"
   ]
  },
  {
   "cell_type": "code",
   "execution_count": null,
   "id": "e2600840",
   "metadata": {},
   "outputs": [],
   "source": []
  },
  {
   "cell_type": "code",
   "execution_count": 3,
   "id": "74b96f2e",
   "metadata": {},
   "outputs": [
    {
     "data": {
      "text/plain": [
       "'Китайских юаней'"
      ]
     },
     "execution_count": 3,
     "metadata": {},
     "output_type": "execute_result"
    }
   ],
   "source": [
    "import requests\n",
    "r = requests.get('https://www.cbr-xml-daily.ru/daily_json.js')\n",
    "\n",
    "data_dict = r.json()['Valute']\n",
    "max(data_dict.items(), key=lambda x: x[1]['Value'])[1]['Name']"
   ]
  }
 ],
 "metadata": {
  "kernelspec": {
   "display_name": "Python 3 (ipykernel)",
   "language": "python",
   "name": "python3"
  },
  "language_info": {
   "codemirror_mode": {
    "name": "ipython",
    "version": 3
   },
   "file_extension": ".py",
   "mimetype": "text/x-python",
   "name": "python",
   "nbconvert_exporter": "python",
   "pygments_lexer": "ipython3",
   "version": "3.9.12"
  }
 },
 "nbformat": 4,
 "nbformat_minor": 5
}
