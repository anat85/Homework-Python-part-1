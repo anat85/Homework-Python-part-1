{
 "cells": [
  {
   "cell_type": "code",
   "execution_count": 1,
   "id": "8b5a584d",
   "metadata": {},
   "outputs": [],
   "source": [
    "import re"
   ]
  },
  {
   "cell_type": "code",
   "execution_count": 2,
   "id": "7314c22e",
   "metadata": {},
   "outputs": [],
   "source": [
    "# Задание 1\n",
    "car_id = 'АБ22ВВ193'\n"
   ]
  },
  {
   "cell_type": "code",
   "execution_count": 3,
   "id": "ae8ea668",
   "metadata": {},
   "outputs": [
    {
     "name": "stdout",
     "output_type": "stream",
     "text": [
      "Номер не валиден\n"
     ]
    }
   ],
   "source": [
    "if re.findall(r'^[A-Z]{1}\\d{3}[A-Z]{2}\\d{2,3}', car_id):\n",
    "    car_id1 = re.findall(r'^[A-Z]{1}\\d{3}[A-Z]{2}', car_id)\n",
    "    car_id2 = re.findall(r'\\d{2,3}$', car_id)\n",
    "    print(f\"Номер {car_id1} валиден. Регион: {car_id2}\")\n",
    "else:\n",
    "    print('Номер не валиден')"
   ]
  },
  {
   "cell_type": "code",
   "execution_count": 10,
   "id": "4c39c117",
   "metadata": {},
   "outputs": [],
   "source": [
    "# Задание 2\n",
    "some_string = 'Напишите функцию функцию, которая будет будет будет будет удалять все все все все последовательные повторы слов из из из из заданной строки строки при помощи регулярных выражений.'"
   ]
  },
  {
   "cell_type": "code",
   "execution_count": 11,
   "id": "f5acaf02",
   "metadata": {},
   "outputs": [
    {
     "data": {
      "text/plain": [
       "'Напишите функцию, которая будет удалять все последовательные повторы слов из заданной строки при помощи регулярных выражений.'"
      ]
     },
     "execution_count": 11,
     "metadata": {},
     "output_type": "execute_result"
    }
   ],
   "source": [
    "re.sub(r'(\\w+)(\\s+\\1)+', r'\\1', some_string)"
   ]
  },
  {
   "cell_type": "code",
   "execution_count": null,
   "id": "844fee38",
   "metadata": {},
   "outputs": [],
   "source": []
  },
  {
   "cell_type": "code",
   "execution_count": 2,
   "id": "c99d69d2",
   "metadata": {},
   "outputs": [],
   "source": [
    "# Задание 3\n",
    "some_words = 'Near Field Communication'"
   ]
  },
  {
   "cell_type": "code",
   "execution_count": 3,
   "id": "8ed34aae",
   "metadata": {},
   "outputs": [
    {
     "name": "stdout",
     "output_type": "stream",
     "text": [
      "NFC\n"
     ]
    }
   ],
   "source": [
    "for letter in some_words:\n",
    "    letter = re.findall(r'\\w{1}(?<!\\w{2})', some_words)\n",
    "    lett = list(map(str.upper, letter))\n",
    "    print(\"\".join(lett))\n",
    "    break\n"
   ]
  },
  {
   "cell_type": "code",
   "execution_count": 9,
   "id": "0203dc32",
   "metadata": {},
   "outputs": [],
   "source": [
    "def acronym(some_words):\n",
    "   return re.sub(r\"(\\w)\\w+\\s?\", r\"\\1\", some_words).upper()"
   ]
  },
  {
   "cell_type": "code",
   "execution_count": 11,
   "id": "358f1ae0",
   "metadata": {},
   "outputs": [
    {
     "data": {
      "text/plain": [
       "'NFC'"
      ]
     },
     "execution_count": 11,
     "metadata": {},
     "output_type": "execute_result"
    }
   ],
   "source": [
    "acronym('Near Field Communication')"
   ]
  },
  {
   "cell_type": "code",
   "execution_count": null,
   "id": "4bf1bef0",
   "metadata": {},
   "outputs": [],
   "source": []
  },
  {
   "cell_type": "code",
   "execution_count": 2,
   "id": "1bdabd3a",
   "metadata": {},
   "outputs": [],
   "source": [
    "# Задание 4\n",
    "emails = ['test@gmail.com', 'xyz@test.in', 'test@ya.ru', 'xyz@mail.ru', 'xyz@ya.ru', 'xyz@gmail.com']"
   ]
  },
  {
   "cell_type": "code",
   "execution_count": null,
   "id": "910106ad",
   "metadata": {},
   "outputs": [],
   "source": []
  },
  {
   "cell_type": "code",
   "execution_count": 3,
   "id": "d0ee201d",
   "metadata": {},
   "outputs": [
    {
     "name": "stdout",
     "output_type": "stream",
     "text": [
      "{'gmail.com': 2, 'test.in': 1, 'ya.ru': 2, 'mail.ru': 1}\n"
     ]
    }
   ],
   "source": [
    "email_s = {}\n",
    "for email in emails:\n",
    "    email_v = re.search(r'@(\\w+\\.\\w{,10})', email)\n",
    "    email_s.setdefault(email_v.group(1),0)\n",
    "    email_s[email_v.group(1)] += 1\n",
    "print(email_s)\n",
    "    "
   ]
  },
  {
   "cell_type": "code",
   "execution_count": null,
   "id": "1e428089",
   "metadata": {},
   "outputs": [],
   "source": []
  },
  {
   "cell_type": "code",
   "execution_count": 39,
   "id": "0cac7a9b",
   "metadata": {},
   "outputs": [],
   "source": [
    "some_text = 'Эталонной реализацией Python является интерпретатор CPython, поддерживающий большинство активно используемых платформ. Он распространяется под свободной лицензией Python Software Foundation License, позволяющей использовать его без ограничений в любых приложениях, включая проприетарные.'"
   ]
  },
  {
   "cell_type": "code",
   "execution_count": 52,
   "id": "efc7c3b2",
   "metadata": {},
   "outputs": [
    {
     "name": "stdout",
     "output_type": "stream",
     "text": [
      "Слов на согласные буквы: 21\n",
      "Слов на гласные буквы: 9\n"
     ]
    }
   ],
   "source": [
    "words1 = re.findall(r\"(?i)(?<![^\\W])[^aeiouуеэоаыяиюё][a-zа-яё]\", some_text, re.I)\n",
    "words2 = re.findall(r\"(?i)(?<![^\\W])[aeiouуеэоаыяиюё][a-zа-яё]\", some_text, re.I)\n",
    "print(f\"Слов на согласные буквы: {len(words1)}\\nСлов на гласные буквы: {len(words2)}\")"
   ]
  },
  {
   "cell_type": "code",
   "execution_count": 189,
   "id": "e2e65409",
   "metadata": {},
   "outputs": [],
   "source": [
    "phone = '89229935544'"
   ]
  },
  {
   "cell_type": "code",
   "execution_count": 190,
   "id": "e19e1f99",
   "metadata": {},
   "outputs": [
    {
     "name": "stdout",
     "output_type": "stream",
     "text": [
      "+7-922-993-55-44\n"
     ]
    }
   ],
   "source": [
    "phone1 = re.findall(r\"\\+[7]\\s?\\(*[9]\\d{2}\\)*\\s*\\d{3}\\s*-*\\d{2}\\s*-*\\d{2}\", phone)\n",
    "phone11 = re.findall(r\"[7,8]\\s?\\(*[9]\\d{2}\\)*\\s*\\d{3}\\s*-*\\d{2}\\s*-*\\d{2}\", phone)\n",
    "if phone in phone11:\n",
    "    phone2 = re.sub(r'[78]', '+7', phone)\n",
    "    phone3 = re.sub(r'[\\s()]', '-', phone2)\n",
    "    phone4 = re.sub(r\"(\\+\\d{1})\\-?(\\d{3})\\-?(\\d{3})\\-?(\\d{2})(\\d{2})\", r'\\1-\\2-\\3-\\4-\\5', phone3)\n",
    "    phone5 = re.sub(r'(\\W)\\1+', r'\\1', phone4)\n",
    "    print(phone5)\n",
    "elif phone in phone1:\n",
    "    phone2 = re.sub(r'[()\\s]', '-', phone)\n",
    "    phone3 = re.sub(r\"(\\d{1})\\-?(\\d{3})\\-?(\\d{3})\\-?(\\d{2})(\\d{2})\", r'\\1-\\2-\\3-\\4-\\5', phone2)\n",
    "    print(phone3)\n",
    "else:\n",
    "    print('Номер не валиден')"
   ]
  }
 ],
 "metadata": {
  "kernelspec": {
   "display_name": "Python 3 (ipykernel)",
   "language": "python",
   "name": "python3"
  },
  "language_info": {
   "codemirror_mode": {
    "name": "ipython",
    "version": 3
   },
   "file_extension": ".py",
   "mimetype": "text/x-python",
   "name": "python",
   "nbconvert_exporter": "python",
   "pygments_lexer": "ipython3",
   "version": "3.9.12"
  }
 },
 "nbformat": 4,
 "nbformat_minor": 5
}
