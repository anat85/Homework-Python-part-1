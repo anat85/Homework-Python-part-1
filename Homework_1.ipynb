{
 "cells": [
  {
   "cell_type": "code",
   "execution_count": 1,
   "id": "10a2d378",
   "metadata": {},
   "outputs": [],
   "source": [
    "# Задание 1\n",
    "phrase_1 = '640Кб должно хватить для любых задач. Билл Гейтс (по легенде)'\n",
    "phrase_2 = 'Насколько проще было бы писать программы, если бы не заказчики'"
   ]
  },
  {
   "cell_type": "code",
   "execution_count": 2,
   "id": "8ca339c3",
   "metadata": {},
   "outputs": [
    {
     "name": "stdout",
     "output_type": "stream",
     "text": [
      "Фраза 2 длиннее фразы 1\n"
     ]
    }
   ],
   "source": [
    "if len(phrase_1) > len(phrase_2):\n",
    "    print('Фраза 1 длиннее фразы 2')\n",
    "elif len(phrase_1) < len(phrase_2):\n",
    "    print('Фраза 2 длиннее фразы 1')\n",
    "else:\n",
    "    print('Фразы равной длины')"
   ]
  },
  {
   "cell_type": "code",
   "execution_count": 3,
   "id": "b512cd6c",
   "metadata": {},
   "outputs": [],
   "source": [
    "# Задание 2\n",
    "year = 2020"
   ]
  },
  {
   "cell_type": "code",
   "execution_count": 4,
   "id": "e9b78f5b",
   "metadata": {},
   "outputs": [
    {
     "name": "stdout",
     "output_type": "stream",
     "text": [
      "Високосный год\n"
     ]
    }
   ],
   "source": [
    "if (year%400==0 or (year%4==0 and year%100!=0)):\n",
    "    print('Високосный год')\n",
    "else:\n",
    "    print('Обычный год')"
   ]
  },
  {
   "cell_type": "code",
   "execution_count": 75,
   "id": "d20cc33f",
   "metadata": {},
   "outputs": [],
   "source": [
    "# Задание 3"
   ]
  },
  {
   "cell_type": "code",
   "execution_count": 5,
   "id": "cab34027",
   "metadata": {},
   "outputs": [
    {
     "name": "stdout",
     "output_type": "stream",
     "text": [
      "Введите день: 26\n",
      "Введите месяц: Май\n"
     ]
    }
   ],
   "source": [
    "day = int(input('Введите день: '))\n",
    "month = input('Введите месяц: ')"
   ]
  },
  {
   "cell_type": "code",
   "execution_count": 6,
   "id": "3c34fb9b",
   "metadata": {},
   "outputs": [
    {
     "name": "stdout",
     "output_type": "stream",
     "text": [
      "Ваш знак зодиака: Близнецы\n"
     ]
    }
   ],
   "source": [
    "if (21<=day<=31 and month == 'Март') or (1<=day<=20 and month == 'Апрель'):\n",
    "    print('Ваш знак зодиака: Дева')\n",
    "elif (21<=day<=30 and month == 'Апрель') or (1<=day<=20 and month == 'Май'):\n",
    "    print('Ваш знак зодиака: Телец')\n",
    "elif (21<=day<=31 and month == 'Май') or (1<=day<=21 and month == 'Июнь'):\n",
    "    print('Ваш знак зодиака: Близнецы')\n",
    "elif (22<=day<=30 and month == 'Июнь') or (1<=day<=22 and month == 'Июль'):\n",
    "    print('Ваш знак зодиака: Рак') \n",
    "elif (23<=day<=31 and month == 'Июль') or (1<=day<=22 and month == 'Август'):\n",
    "    print('Ваш знак зодиака: Лев')\n",
    "elif (23<=day<=31 and month == 'Август') or (1<=day<=23 and month == 'Сентябрь'):\n",
    "    print('Ваш знак зодиака: Дева')\n",
    "elif (24<=day<=30 and month == 'Сентябрь') or (1<=day<=23 and month == 'Октябрь'):\n",
    "    print('Ваш знак зодиака: Весы')\n",
    "elif (24<=day<=31 and month == 'Октябрь') or (1<=day<=22 and month == 'Ноябрь'):\n",
    "    print('Ваш знак зодиака: Скорпион')\n",
    "elif (23<=day<=30 and month == 'Ноябрь') or (1<=day<=21 and month == 'Декабрь'):\n",
    "    print('Ваш знак зодиака: Стрелец')\n",
    "elif (22<=day<=31 and month == 'Декабрь') or (1<=day<=20 and month == 'Январь'):\n",
    "    print('Ваш знак зодиака: Козерог')\n",
    "elif (21<=day<=31 and month == 'Январь') or (1<=day<=18 and month == 'Февраль'):\n",
    "    print('Ваш знак зодиака: Водолей')\n",
    "else:\n",
    "    print('Ваш знак зодиака: Рыбы')"
   ]
  },
  {
   "cell_type": "code",
   "execution_count": 98,
   "id": "f3ad9adc",
   "metadata": {},
   "outputs": [],
   "source": [
    "# Задание 4"
   ]
  },
  {
   "cell_type": "code",
   "execution_count": 7,
   "id": "c4300841",
   "metadata": {},
   "outputs": [],
   "source": [
    "width = 10\n",
    "length = 49\n",
    "height = 15"
   ]
  },
  {
   "cell_type": "code",
   "execution_count": 8,
   "id": "1bfca1ce",
   "metadata": {},
   "outputs": [
    {
     "name": "stdout",
     "output_type": "stream",
     "text": [
      "Коробка №2\n"
     ]
    }
   ],
   "source": [
    "if 0<width<=15 and 0<length<=15 and 0<height<=15:\n",
    "    print('Коробка №1')\n",
    "elif 0<width<=50 and length>200 and 0<height<=50:\n",
    "    print('Упаковка для лыж')\n",
    "elif (15<width<=50 and 0<length<=15 and 0<height<=15) or (0<width<=15 and 15<length<=50 and 0<height<=15) or (0<width<=15 and 0<length<=15 and 15<height<=50):\n",
    "    print('Коробка №2')\n",
    "else:\n",
    "    print('Стандартная коробка №3')    \n"
   ]
  },
  {
   "cell_type": "code",
   "execution_count": null,
   "id": "08e4060c",
   "metadata": {},
   "outputs": [],
   "source": [
    "# Задание 5 (необязательное)"
   ]
  },
  {
   "cell_type": "code",
   "execution_count": 25,
   "id": "b85bc32a",
   "metadata": {},
   "outputs": [],
   "source": [
    "number = 100001"
   ]
  },
  {
   "cell_type": "code",
   "execution_count": 26,
   "id": "9d0d405c",
   "metadata": {},
   "outputs": [
    {
     "name": "stdout",
     "output_type": "stream",
     "text": [
      "Счастливый билет\n"
     ]
    }
   ],
   "source": [
    "if (number%10 + int((number%100 - number%10)/10) + int((number%1000 - number%100)/100)) == (int((number%10000 - number%1000)/1000) + int((number%100000 - number%10000)/10000) + int((number%1000000 - number%100000)/100000)):\n",
    "    print ('Счастливый билет')\n",
    "else:\n",
    "    print('Несчастливый билет')"
   ]
  },
  {
   "cell_type": "code",
   "execution_count": null,
   "id": "1ae39786",
   "metadata": {},
   "outputs": [],
   "source": [
    "# Задание 6 (необязательное)"
   ]
  },
  {
   "cell_type": "code",
   "execution_count": 38,
   "id": "b81d19c0",
   "metadata": {},
   "outputs": [
    {
     "name": "stdout",
     "output_type": "stream",
     "text": [
      "Введите тип фигуры: \n",
      "Прямоугольник\n"
     ]
    }
   ],
   "source": [
    "fig = input('Введите тип фигуры: \\n')"
   ]
  },
  {
   "cell_type": "code",
   "execution_count": 45,
   "id": "ca8b4631",
   "metadata": {},
   "outputs": [
    {
     "name": "stdout",
     "output_type": "stream",
     "text": [
      "Введите длину стороны A: \n",
      "5\n",
      "Введите длину стороны B: \n",
      "8\n",
      "Площадь прямоугольника: 40.00\n"
     ]
    }
   ],
   "source": [
    "if fig == 'Круг':\n",
    "    rad = int(input('Введите радиус круга: \\n'))\n",
    "    S = 3.1415926535*(rad**2)\n",
    "    print ('Площадь круга:  %.2f' %(S))\n",
    "elif fig == 'Треугольник':\n",
    "    line_1 = float(input('Введите длину стороны A: \\n'))\n",
    "    line_2 = float(input('Введите длину стороны B: \\n'))\n",
    "    line_3 = float(input('Введите длину стороны C: \\n'))\n",
    "    P = (line_1 + line_2 + line_3)/2\n",
    "    S = P*(P-line_1)*(P-line_2)*(P-line_3)\n",
    "    print ('Площадь треугольника:  %.2f' %S**0.5)\n",
    "elif fig == 'Прямоугольник':\n",
    "    line_1 = float(input('Введите длину стороны A: \\n'))\n",
    "    line_2 = float(input('Введите длину стороны B: \\n'))\n",
    "    print('Площадь прямоугольника: %.2f' %(line_1*line_2))"
   ]
  }
 ],
 "metadata": {
  "kernelspec": {
   "display_name": "Python 3 (ipykernel)",
   "language": "python",
   "name": "python3"
  },
  "language_info": {
   "codemirror_mode": {
    "name": "ipython",
    "version": 3
   },
   "file_extension": ".py",
   "mimetype": "text/x-python",
   "name": "python",
   "nbconvert_exporter": "python",
   "pygments_lexer": "ipython3",
   "version": "3.9.12"
  }
 },
 "nbformat": 4,
 "nbformat_minor": 5
}
