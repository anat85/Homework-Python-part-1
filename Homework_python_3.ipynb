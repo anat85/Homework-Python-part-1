{
 "cells": [
  {
   "cell_type": "code",
   "execution_count": 74,
   "id": "439a4f8b",
   "metadata": {},
   "outputs": [],
   "source": [
    "documents = [\n",
    "{'type': 'passport', 'number': '2207 876234', 'name': 'Василий Гупкин'},\n",
    "{'type': 'invoice', 'number': '11-2', 'name': 'Геннадий Покемонов'},\n",
    "{'type': 'insurance', 'number': '10006', 'name': 'Аристарх Павлов'}\n",
    "]\n",
    "directories = {\n",
    "'1': ['2207 876234', '11-2'],\n",
    "'2': ['10006'],\n",
    "'3': []\n",
    "}"
   ]
  },
  {
   "cell_type": "code",
   "execution_count": 84,
   "id": "0a20b998",
   "metadata": {},
   "outputs": [],
   "source": [
    "def p_command():\n",
    "    x = input('Введите номер документа:\\n')\n",
    "    for n in documents:\n",
    "        if x == n['number']:\n",
    "            print(f\"Владелец документа: {n['name']}\")\n",
    "            break\n",
    "    else:\n",
    "        print('Документ не найден в базе')\n",
    "                \n"
   ]
  },
  {
   "cell_type": "code",
   "execution_count": 3,
   "id": "b2aa90d7",
   "metadata": {},
   "outputs": [],
   "source": [
    "def s_command():\n",
    "    y = input('Введите номер документа:\\n')\n",
    "    for l, z in directories.items():\n",
    "        if y in z:\n",
    "            print(f\"Документ хранится на полке: {l}\")\n",
    "            break\n",
    "    else:\n",
    "        print('Документ не найден в базе')"
   ]
  },
  {
   "cell_type": "code",
   "execution_count": 116,
   "id": "c0765812",
   "metadata": {},
   "outputs": [],
   "source": [
    "def l_command():\n",
    "    for y in documents:\n",
    "        for key, value in directories.items():\n",
    "            if y['number'] in value:\n",
    "                print(f\"№: {y['number']}, тип: {y['type']}, владелец: {y['name']}, полка хранения: {key}\")\n",
    "            \n",
    "            "
   ]
  },
  {
   "cell_type": "code",
   "execution_count": 46,
   "id": "6c780384",
   "metadata": {},
   "outputs": [],
   "source": [
    "def ads_command():\n",
    "    pol = {}\n",
    "    x = input('Введите номер полки:\\n')\n",
    "    for y in directories:\n",
    "        if x == y:\n",
    "             print(f'Такая полка уже существует. Текущий перечень полок: {\",\".join(list(directories))}.')\n",
    "             break   \n",
    "    else:\n",
    "         pol[x] = []\n",
    "         directories.update(pol)\n",
    "         print(f'Полка добавлена. Текущий перечень полок: {\",\".join(list(directories))}.')\n",
    "   \n",
    "    "
   ]
  },
  {
   "cell_type": "code",
   "execution_count": 47,
   "id": "10de74ae",
   "metadata": {},
   "outputs": [],
   "source": [
    "def ds_command():\n",
    "    x = input('Введите номер полки:\\n')\n",
    "    for z, y in directories.items():\n",
    "        if y != list() and x == z:\n",
    "            print(f'На полке есть документы, удалите их перед удалением полки. Текущий перечень полок: {\",\".join(list(directories))}.')\n",
    "            break\n",
    "        elif y == list() and x == z:\n",
    "            del(directories[z])\n",
    "            print(f'Полка удалена. Текущий перечень полок: {\",\".join(list(directories))}.')\n",
    "            break\n",
    "    else: \n",
    "        print(f'Такой полки не существует. Текущий перечень полок: {\",\".join(list(directories))}.')\n",
    "        \n",
    "    "
   ]
  },
  {
   "cell_type": "code",
   "execution_count": 119,
   "id": "aec7548e",
   "metadata": {},
   "outputs": [],
   "source": [
    "def main():\n",
    "    coma_nd = \"Введите команду:\"\n",
    "    while True:\n",
    "        comand = input(coma_nd)\n",
    "        if comand == 'q':\n",
    "            break\n",
    "        elif comand == 'p':\n",
    "            p_command()\n",
    "        elif comand == 's':\n",
    "            s_command()\n",
    "        elif comand == 'l':\n",
    "            l_command()\n",
    "        elif comand == 'ads':\n",
    "            ads_command()\n",
    "        elif comand == 'ds':\n",
    "            ds_command()"
   ]
  },
  {
   "cell_type": "code",
   "execution_count": null,
   "id": "1b99b38b",
   "metadata": {},
   "outputs": [],
   "source": [
    "main()"
   ]
  }
 ],
 "metadata": {
  "kernelspec": {
   "display_name": "Python 3 (ipykernel)",
   "language": "python",
   "name": "python3"
  },
  "language_info": {
   "codemirror_mode": {
    "name": "ipython",
    "version": 3
   },
   "file_extension": ".py",
   "mimetype": "text/x-python",
   "name": "python",
   "nbconvert_exporter": "python",
   "pygments_lexer": "ipython3",
   "version": "3.9.12"
  }
 },
 "nbformat": 4,
 "nbformat_minor": 5
}
